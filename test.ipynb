{
  "nbformat": 4,
  "nbformat_minor": 0,
  "metadata": {
    "interpreter": {
      "hash": "b7ecf2b0355b3f7b119064f2b32d6d7c356d8750fbbaadb70c6070c159d5f1f9"
    },
    "kernelspec": {
      "display_name": "Python 3.9.5 64-bit ('base': conda)",
      "language": "python",
      "name": "python3"
    },
    "language_info": {
      "codemirror_mode": {
        "name": "ipython",
        "version": 3
      },
      "file_extension": ".py",
      "mimetype": "text/x-python",
      "name": "python",
      "nbconvert_exporter": "python",
      "pygments_lexer": "ipython3",
      "version": "3.9.5"
    },
    "orig_nbformat": 4,
    "colab": {
      "name": "“test.ipynb”的副本",
      "provenance": [],
      "collapsed_sections": []
    },
    "accelerator": "GPU",
    "widgets": {
      "application/vnd.jupyter.widget-state+json": {
        "93a111597817454e894bc16da8dc1450": {
          "model_module": "@jupyter-widgets/controls",
          "model_name": "HBoxModel",
          "model_module_version": "1.5.0",
          "state": {
            "_view_name": "HBoxView",
            "_dom_classes": [],
            "_model_name": "HBoxModel",
            "_view_module": "@jupyter-widgets/controls",
            "_model_module_version": "1.5.0",
            "_view_count": null,
            "_view_module_version": "1.5.0",
            "box_style": "",
            "layout": "IPY_MODEL_45f1adb6331648c9a656d0d91a312a3c",
            "_model_module": "@jupyter-widgets/controls",
            "children": [
              "IPY_MODEL_0abd60b42bdb4a7287ef25103c10599d",
              "IPY_MODEL_8081bb546ce44f9a977ddb089e949000",
              "IPY_MODEL_3bf3e8e669f84269abffa2d240f03cdc"
            ]
          }
        },
        "45f1adb6331648c9a656d0d91a312a3c": {
          "model_module": "@jupyter-widgets/base",
          "model_name": "LayoutModel",
          "model_module_version": "1.2.0",
          "state": {
            "_view_name": "LayoutView",
            "grid_template_rows": null,
            "right": null,
            "justify_content": null,
            "_view_module": "@jupyter-widgets/base",
            "overflow": null,
            "_model_module_version": "1.2.0",
            "_view_count": null,
            "flex_flow": null,
            "width": null,
            "min_width": null,
            "border": null,
            "align_items": null,
            "bottom": null,
            "_model_module": "@jupyter-widgets/base",
            "top": null,
            "grid_column": null,
            "overflow_y": null,
            "overflow_x": null,
            "grid_auto_flow": null,
            "grid_area": null,
            "grid_template_columns": null,
            "flex": null,
            "_model_name": "LayoutModel",
            "justify_items": null,
            "grid_row": null,
            "max_height": null,
            "align_content": null,
            "visibility": null,
            "align_self": null,
            "height": null,
            "min_height": null,
            "padding": null,
            "grid_auto_rows": null,
            "grid_gap": null,
            "max_width": null,
            "order": null,
            "_view_module_version": "1.2.0",
            "grid_template_areas": null,
            "object_position": null,
            "object_fit": null,
            "grid_auto_columns": null,
            "margin": null,
            "display": null,
            "left": null
          }
        },
        "0abd60b42bdb4a7287ef25103c10599d": {
          "model_module": "@jupyter-widgets/controls",
          "model_name": "HTMLModel",
          "model_module_version": "1.5.0",
          "state": {
            "_view_name": "HTMLView",
            "style": "IPY_MODEL_12b40ae2876340edab5896e1512c5057",
            "_dom_classes": [],
            "description": "",
            "_model_name": "HTMLModel",
            "placeholder": "​",
            "_view_module": "@jupyter-widgets/controls",
            "_model_module_version": "1.5.0",
            "value": "100%",
            "_view_count": null,
            "_view_module_version": "1.5.0",
            "description_tooltip": null,
            "_model_module": "@jupyter-widgets/controls",
            "layout": "IPY_MODEL_ce2b7f81563545ae83f132829659a62c"
          }
        },
        "8081bb546ce44f9a977ddb089e949000": {
          "model_module": "@jupyter-widgets/controls",
          "model_name": "FloatProgressModel",
          "model_module_version": "1.5.0",
          "state": {
            "_view_name": "ProgressView",
            "style": "IPY_MODEL_7031f5ebada54869b5e77dcc09497bc9",
            "_dom_classes": [],
            "description": "",
            "_model_name": "FloatProgressModel",
            "bar_style": "success",
            "max": 818322941,
            "_view_module": "@jupyter-widgets/controls",
            "_model_module_version": "1.5.0",
            "value": 818322941,
            "_view_count": null,
            "_view_module_version": "1.5.0",
            "orientation": "horizontal",
            "min": 0,
            "description_tooltip": null,
            "_model_module": "@jupyter-widgets/controls",
            "layout": "IPY_MODEL_610bfea35c034dab99832229b4bac9ac"
          }
        },
        "3bf3e8e669f84269abffa2d240f03cdc": {
          "model_module": "@jupyter-widgets/controls",
          "model_name": "HTMLModel",
          "model_module_version": "1.5.0",
          "state": {
            "_view_name": "HTMLView",
            "style": "IPY_MODEL_1be87b0ee0d943329c70927ddc4bfd12",
            "_dom_classes": [],
            "description": "",
            "_model_name": "HTMLModel",
            "placeholder": "​",
            "_view_module": "@jupyter-widgets/controls",
            "_model_module_version": "1.5.0",
            "value": " 780M/780M [00:08&lt;00:00, 111MB/s]",
            "_view_count": null,
            "_view_module_version": "1.5.0",
            "description_tooltip": null,
            "_model_module": "@jupyter-widgets/controls",
            "layout": "IPY_MODEL_f019114f358d49248a4c0709bd4c6898"
          }
        },
        "12b40ae2876340edab5896e1512c5057": {
          "model_module": "@jupyter-widgets/controls",
          "model_name": "DescriptionStyleModel",
          "model_module_version": "1.5.0",
          "state": {
            "_view_name": "StyleView",
            "_model_name": "DescriptionStyleModel",
            "description_width": "",
            "_view_module": "@jupyter-widgets/base",
            "_model_module_version": "1.5.0",
            "_view_count": null,
            "_view_module_version": "1.2.0",
            "_model_module": "@jupyter-widgets/controls"
          }
        },
        "ce2b7f81563545ae83f132829659a62c": {
          "model_module": "@jupyter-widgets/base",
          "model_name": "LayoutModel",
          "model_module_version": "1.2.0",
          "state": {
            "_view_name": "LayoutView",
            "grid_template_rows": null,
            "right": null,
            "justify_content": null,
            "_view_module": "@jupyter-widgets/base",
            "overflow": null,
            "_model_module_version": "1.2.0",
            "_view_count": null,
            "flex_flow": null,
            "width": null,
            "min_width": null,
            "border": null,
            "align_items": null,
            "bottom": null,
            "_model_module": "@jupyter-widgets/base",
            "top": null,
            "grid_column": null,
            "overflow_y": null,
            "overflow_x": null,
            "grid_auto_flow": null,
            "grid_area": null,
            "grid_template_columns": null,
            "flex": null,
            "_model_name": "LayoutModel",
            "justify_items": null,
            "grid_row": null,
            "max_height": null,
            "align_content": null,
            "visibility": null,
            "align_self": null,
            "height": null,
            "min_height": null,
            "padding": null,
            "grid_auto_rows": null,
            "grid_gap": null,
            "max_width": null,
            "order": null,
            "_view_module_version": "1.2.0",
            "grid_template_areas": null,
            "object_position": null,
            "object_fit": null,
            "grid_auto_columns": null,
            "margin": null,
            "display": null,
            "left": null
          }
        },
        "7031f5ebada54869b5e77dcc09497bc9": {
          "model_module": "@jupyter-widgets/controls",
          "model_name": "ProgressStyleModel",
          "model_module_version": "1.5.0",
          "state": {
            "_view_name": "StyleView",
            "_model_name": "ProgressStyleModel",
            "description_width": "",
            "_view_module": "@jupyter-widgets/base",
            "_model_module_version": "1.5.0",
            "_view_count": null,
            "_view_module_version": "1.2.0",
            "bar_color": null,
            "_model_module": "@jupyter-widgets/controls"
          }
        },
        "610bfea35c034dab99832229b4bac9ac": {
          "model_module": "@jupyter-widgets/base",
          "model_name": "LayoutModel",
          "model_module_version": "1.2.0",
          "state": {
            "_view_name": "LayoutView",
            "grid_template_rows": null,
            "right": null,
            "justify_content": null,
            "_view_module": "@jupyter-widgets/base",
            "overflow": null,
            "_model_module_version": "1.2.0",
            "_view_count": null,
            "flex_flow": null,
            "width": null,
            "min_width": null,
            "border": null,
            "align_items": null,
            "bottom": null,
            "_model_module": "@jupyter-widgets/base",
            "top": null,
            "grid_column": null,
            "overflow_y": null,
            "overflow_x": null,
            "grid_auto_flow": null,
            "grid_area": null,
            "grid_template_columns": null,
            "flex": null,
            "_model_name": "LayoutModel",
            "justify_items": null,
            "grid_row": null,
            "max_height": null,
            "align_content": null,
            "visibility": null,
            "align_self": null,
            "height": null,
            "min_height": null,
            "padding": null,
            "grid_auto_rows": null,
            "grid_gap": null,
            "max_width": null,
            "order": null,
            "_view_module_version": "1.2.0",
            "grid_template_areas": null,
            "object_position": null,
            "object_fit": null,
            "grid_auto_columns": null,
            "margin": null,
            "display": null,
            "left": null
          }
        },
        "1be87b0ee0d943329c70927ddc4bfd12": {
          "model_module": "@jupyter-widgets/controls",
          "model_name": "DescriptionStyleModel",
          "model_module_version": "1.5.0",
          "state": {
            "_view_name": "StyleView",
            "_model_name": "DescriptionStyleModel",
            "description_width": "",
            "_view_module": "@jupyter-widgets/base",
            "_model_module_version": "1.5.0",
            "_view_count": null,
            "_view_module_version": "1.2.0",
            "_model_module": "@jupyter-widgets/controls"
          }
        },
        "f019114f358d49248a4c0709bd4c6898": {
          "model_module": "@jupyter-widgets/base",
          "model_name": "LayoutModel",
          "model_module_version": "1.2.0",
          "state": {
            "_view_name": "LayoutView",
            "grid_template_rows": null,
            "right": null,
            "justify_content": null,
            "_view_module": "@jupyter-widgets/base",
            "overflow": null,
            "_model_module_version": "1.2.0",
            "_view_count": null,
            "flex_flow": null,
            "width": null,
            "min_width": null,
            "border": null,
            "align_items": null,
            "bottom": null,
            "_model_module": "@jupyter-widgets/base",
            "top": null,
            "grid_column": null,
            "overflow_y": null,
            "overflow_x": null,
            "grid_auto_flow": null,
            "grid_area": null,
            "grid_template_columns": null,
            "flex": null,
            "_model_name": "LayoutModel",
            "justify_items": null,
            "grid_row": null,
            "max_height": null,
            "align_content": null,
            "visibility": null,
            "align_self": null,
            "height": null,
            "min_height": null,
            "padding": null,
            "grid_auto_rows": null,
            "grid_gap": null,
            "max_width": null,
            "order": null,
            "_view_module_version": "1.2.0",
            "grid_template_areas": null,
            "object_position": null,
            "object_fit": null,
            "grid_auto_columns": null,
            "margin": null,
            "display": null,
            "left": null
          }
        }
      }
    }
  },
  "cells": [
    {
      "cell_type": "markdown",
      "metadata": {
        "id": "LhfdRFZgwQbI"
      },
      "source": [
        "# 配置环境"
      ]
    },
    {
      "cell_type": "code",
      "metadata": {
        "id": "BriJBm6QwQbK",
        "colab": {
          "base_uri": "https://localhost:8080/"
        },
        "outputId": "fd5d8a9d-7b1a-418c-a5c5-d11a46a0023c"
      },
      "source": [
        "!git clone https://github.com/tiaoteek/fasterRCNN\n",
        "%cd fasterRCNN\n",
        "%pip install -qr requirements.txt\n",
        "\n",
        "import torch\n",
        "from IPython.display import Image, clear_output  # to display images\n",
        "clear_output()\n",
        "print(f\"Setup complete. Using torch {torch.__version__} ({torch.cuda.get_device_properties(0).name if torch.cuda.is_available() else 'CPU'})\")"
      ],
      "execution_count": null,
      "outputs": [
        {
          "output_type": "stream",
          "name": "stdout",
          "text": [
            "Setup complete. Using torch 1.10.0+cu111 (Tesla K80)\n"
          ]
        }
      ]
    },
    {
      "cell_type": "code",
      "metadata": {
        "id": "8uLVLlzxwQbL"
      },
      "source": [
        "import torchvision  # 0.3.0  version  这里指的是所使用包的版本\n",
        "from torchvision import transforms as T\n",
        "import cv2  # 4.1.1  version\n",
        "import matplotlib.pyplot as plt  # 3.0.0  version\n",
        "from PIL import Image  # 5.3.0  version\n",
        "import random\n",
        "import os\n",
        "import torch\n",
        "import numpy as np"
      ],
      "execution_count": null,
      "outputs": []
    },
    {
      "cell_type": "markdown",
      "metadata": {
        "id": "kafYjINiwQbM"
      },
      "source": [
        "# 加载模型"
      ]
    },
    {
      "cell_type": "code",
      "metadata": {
        "id": "57Oxjb3NwQbM"
      },
      "source": [
        "device = torch.device(\"cuda\" if torch.cuda.is_available() else \"cpu\")\n",
        "model = torchvision.models.detection.fasterrcnn_resnet50_fpn(pretrained=True).to(device)  #  加载模型\n",
        "model.eval()  # 设置成评估模式\n",
        "clear_output()"
      ],
      "execution_count": null,
      "outputs": []
    },
    {
      "cell_type": "markdown",
      "metadata": {
        "id": "zTC91LSGwQbM"
      },
      "source": [
        "预测结果"
      ]
    },
    {
      "cell_type": "code",
      "metadata": {
        "id": "KTPF8Z5jwQbN"
      },
      "source": [
        "#  获取单张图片的预测结果\n",
        "def prediction(img_path, file_id):\n",
        "    img = Image.open(img_path)  # Load the image  加载图片\n",
        "    transform = T.Compose([T.ToTensor()]) # Defing PyTorch Transform\n",
        "    img = transform(img)  # Apply the transform to the image  转换成 torch 形式\n",
        "    pred = model([img.to(device)])  # Pass the image to the model  开始推理\n",
        "    pred_class = [i for i in pred[0]['labels'].cpu().numpy()]  # Get the Prediction Score  获取预测的类别\n",
        "    pred_boxes = [[float(i[0]), float(i[1]), float(i[2]-i[0]), float(i[3]-i[1])] for i in pred[0]['boxes'].detach().cpu().numpy()]  # Bounding boxes  获取各个类别的边框\n",
        "    pred_score = pred[0]['scores'].cpu().detach().numpy()  #  获取各个类别的分数\n",
        "    img_obj = [{\"image_id\":file_id,\"category_id\":int(pred_class[i]), \"bbox\": pred_boxes[i], \"score\":float(pred_score[i])} for i in range(len(pred_class))]\n",
        "    return img_obj"
      ],
      "execution_count": null,
      "outputs": []
    },
    {
      "cell_type": "markdown",
      "metadata": {
        "id": "ZqMhN-AbwQbN"
      },
      "source": [
        "准备数据"
      ]
    },
    {
      "cell_type": "code",
      "metadata": {
        "id": "XYIC8uvWwQbO",
        "colab": {
          "base_uri": "https://localhost:8080/",
          "height": 49,
          "referenced_widgets": [
            "93a111597817454e894bc16da8dc1450",
            "45f1adb6331648c9a656d0d91a312a3c",
            "0abd60b42bdb4a7287ef25103c10599d",
            "8081bb546ce44f9a977ddb089e949000",
            "3bf3e8e669f84269abffa2d240f03cdc",
            "12b40ae2876340edab5896e1512c5057",
            "ce2b7f81563545ae83f132829659a62c",
            "7031f5ebada54869b5e77dcc09497bc9",
            "610bfea35c034dab99832229b4bac9ac",
            "1be87b0ee0d943329c70927ddc4bfd12",
            "f019114f358d49248a4c0709bd4c6898"
          ]
        },
        "outputId": "b3d003ca-da65-4857-fd08-41ac3998d719"
      },
      "source": [
        "# Download COCO val\n",
        "torch.hub.download_url_to_file('https://ultralytics.com/assets/coco2017val.zip', 'tmp.zip')\n",
        "!unzip -q tmp.zip -d ../datasets && rm tmp.zip"
      ],
      "execution_count": null,
      "outputs": [
        {
          "output_type": "display_data",
          "data": {
            "application/vnd.jupyter.widget-view+json": {
              "model_id": "93a111597817454e894bc16da8dc1450",
              "version_minor": 0,
              "version_major": 2
            },
            "text/plain": [
              "  0%|          | 0.00/780M [00:00<?, ?B/s]"
            ]
          },
          "metadata": {}
        }
      ]
    },
    {
      "cell_type": "code",
      "metadata": {
        "id": "7BHTXQkgwQbP"
      },
      "source": [
        "#读取coco数据集里的文件索引\n",
        "import json\n",
        "file_dic = {}\n",
        "with open('/content/datasets/coco/annotations/instances_val2017.json','r',encoding='utf8')as fp:\n",
        "    json_data = json.load(fp)\n",
        "    img_arr = json_data[\"images\"]\n",
        "    for i in range(len(img_arr)):\n",
        "        img_name = img_arr[i][\"file_name\"]\n",
        "        img_id = img_arr[i][\"id\"]\n",
        "        file_dic[img_id] = img_name\n",
        "\n",
        "coco_img_dir = \"/content/datasets/coco/images/val2017/\""
      ],
      "execution_count": null,
      "outputs": []
    },
    {
      "cell_type": "code",
      "metadata": {
        "id": "ACgxY2W8wQbP",
        "colab": {
          "base_uri": "https://localhost:8080/"
        },
        "outputId": "56c84294-571b-484f-ab49-8017cbdf91ba"
      },
      "source": [
        "# 用cocoval 进行验证结果\n",
        "result_list = []    #临时保存结果\n",
        "idx = 1\n",
        "for file_id in file_dic:\n",
        "    clear_output()\n",
        "    coco_img_path = os.path.join(coco_img_dir, file_dic[file_id])\n",
        "    print(\"第\"+ str(idx) +\"个图片\")\n",
        "    list = prediction(coco_img_path, file_id)\n",
        "    result_list += list\n",
        "    idx += 1"
      ],
      "execution_count": null,
      "outputs": [
        {
          "output_type": "stream",
          "name": "stdout",
          "text": [
            "第5000个图片\n"
          ]
        }
      ]
    },
    {
      "cell_type": "code",
      "metadata": {
        "id": "AS8aoPx9wQbP"
      },
      "source": [
        "# 保存结果\n",
        "with open('val2017coco.json','a',encoding='utf8')as fp:\n",
        "    json.dump(result_list, fp)"
      ],
      "execution_count": null,
      "outputs": []
    },
    {
      "cell_type": "code",
      "metadata": {
        "id": "0L2_37XkwQbQ",
        "colab": {
          "base_uri": "https://localhost:8080/"
        },
        "outputId": "7b823c1f-5a45-4542-e9f0-0a41afe3fa91"
      },
      "source": [
        "!python mAP.py"
      ],
      "execution_count": null,
      "outputs": [
        {
          "output_type": "stream",
          "name": "stdout",
          "text": [
            "loading annotations into memory...\n",
            "Done (t=0.57s)\n",
            "creating index...\n",
            "index created!\n",
            "4996\n",
            "Loading and preparing results...\n",
            "DONE (t=1.64s)\n",
            "creating index...\n",
            "index created!\n",
            "Running per image evaluation...\n",
            "Evaluate annotation type *bbox*\n",
            "DONE (t=49.02s).\n",
            "Accumulating evaluation results...\n",
            "DONE (t=6.20s).\n",
            " Average Precision  (AP) @[ IoU=0.50:0.95 | area=   all | maxDets=100 ] = 0.369\n",
            " Average Precision  (AP) @[ IoU=0.50      | area=   all | maxDets=100 ] = 0.585\n",
            " Average Precision  (AP) @[ IoU=0.75      | area=   all | maxDets=100 ] = 0.396\n",
            " Average Precision  (AP) @[ IoU=0.50:0.95 | area= small | maxDets=100 ] = 0.212\n",
            " Average Precision  (AP) @[ IoU=0.50:0.95 | area=medium | maxDets=100 ] = 0.403\n",
            " Average Precision  (AP) @[ IoU=0.50:0.95 | area= large | maxDets=100 ] = 0.482\n",
            " Average Recall     (AR) @[ IoU=0.50:0.95 | area=   all | maxDets=  1 ] = 0.307\n",
            " Average Recall     (AR) @[ IoU=0.50:0.95 | area=   all | maxDets= 10 ] = 0.485\n",
            " Average Recall     (AR) @[ IoU=0.50:0.95 | area=   all | maxDets=100 ] = 0.509\n",
            " Average Recall     (AR) @[ IoU=0.50:0.95 | area= small | maxDets=100 ] = 0.317\n",
            " Average Recall     (AR) @[ IoU=0.50:0.95 | area=medium | maxDets=100 ] = 0.544\n",
            " Average Recall     (AR) @[ IoU=0.50:0.95 | area= large | maxDets=100 ] = 0.649\n"
          ]
        }
      ]
    }
  ]
}