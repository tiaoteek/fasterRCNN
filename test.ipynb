{
 "cells": [
  {
   "cell_type": "markdown",
   "metadata": {},
   "source": [
    "# 配置环境"
   ]
  },
  {
   "cell_type": "code",
   "execution_count": null,
   "metadata": {},
   "outputs": [],
   "source": [
    "!git clone https://github.com/tiaoteek/fasterRCNN\n",
    "%cd fasterRCNN\n",
    "%pip install -qr requirements.txt\n",
    "\n",
    "import torch\n",
    "from IPython.display import Image, clear_output  # to display images\n",
    "clear_output()\n",
    "print(f\"Setup complete. Using torch {torch.__version__} ({torch.cuda.get_device_properties(0).name if torch.cuda.is_available() else 'CPU'})\")"
   ]
  },
  {
   "cell_type": "code",
   "execution_count": 1,
   "metadata": {},
   "outputs": [],
   "source": [
    "import torchvision  # 0.3.0  version  这里指的是所使用包的版本\n",
    "from torchvision import transforms as T\n",
    "import cv2  # 4.1.1  version\n",
    "import matplotlib.pyplot as plt  # 3.0.0  version\n",
    "from PIL import Image  # 5.3.0  version\n",
    "import random\n",
    "import os\n",
    "import torch\n",
    "import numpy as np"
   ]
  },
  {
   "cell_type": "markdown",
   "metadata": {},
   "source": [
    "# 加载模型"
   ]
  },
  {
   "cell_type": "code",
   "execution_count": null,
   "metadata": {},
   "outputs": [],
   "source": [
    "device = torch.device(\"cuda\" if torch.cuda.is_available() else \"cpu\")\n",
    "model = torchvision.models.detection.fasterrcnn_resnet50_fpn(pretrained=True).to(device)  #  加载模型\n",
    "model.eval()  # 设置成评估模式\n",
    "clear_output()"
   ]
  },
  {
   "cell_type": "markdown",
   "metadata": {},
   "source": [
    "预测结果"
   ]
  },
  {
   "cell_type": "code",
   "execution_count": null,
   "metadata": {},
   "outputs": [],
   "source": [
    "#  获取单张图片的预测结果\n",
    "def prediction(img_path, file_id):\n",
    "    img = Image.open(img_path)  # Load the image  加载图片\n",
    "    transform = T.Compose([T.ToTensor()]) # Defing PyTorch Transform\n",
    "    img = transform(img)  # Apply the transform to the image  转换成 torch 形式\n",
    "    pred = model([img.to(device)])  # Pass the image to the model  开始推理\n",
    "    pred_class = [i for i in pred[0]['labels'].cpu().numpy()]  # Get the Prediction Score  获取预测的类别\n",
    "    pred_boxes = [[float(i[0]), float(i[1]), float(i[2]-i[0]), float(i[3]-i[1])] for i in pred[0]['boxes'].detach().cpu().numpy()]  # Bounding boxes  获取各个类别的边框\n",
    "    pred_score = pred[0]['scores'].cpu().detach().numpy()  #  获取各个类别的分数\n",
    "    img_obj = [{\"image_id\":file_id,\"category_id\":int(pred_class[i]), \"bbox\": pred_boxes[i], \"score\":float(pred_score[i])} for i in range(len(pred_class))]\n",
    "    return img_obj"
   ]
  },
  {
   "cell_type": "markdown",
   "metadata": {},
   "source": [
    "准备数据"
   ]
  },
  {
   "cell_type": "code",
   "execution_count": null,
   "metadata": {},
   "outputs": [],
   "source": [
    "# Download COCO val\n",
    "torch.hub.download_url_to_file('https://ultralytics.com/assets/coco2017val.zip', 'tmp.zip')\n",
    "!unzip -q tmp.zip -d ./datasets && rm tmp.zip"
   ]
  },
  {
   "cell_type": "code",
   "execution_count": null,
   "metadata": {},
   "outputs": [],
   "source": [
    "#读取coco数据集里的文件索引\n",
    "import json\n",
    "file_dic = {}\n",
    "with open('/content/datasets/coco/annotations/instances_val2017.json','r',encoding='utf8')as fp:\n",
    "    json_data = json.load(fp)\n",
    "    img_arr = json_data[\"images\"]\n",
    "    for i in range(len(img_arr)):\n",
    "        img_name = img_arr[i][\"file_name\"]\n",
    "        img_id = img_arr[i][\"id\"]\n",
    "        file_dic[img_id] = img_name\n",
    "\n",
    "coco_img_dir = \"/content/datasets/coco/images/val2017/\""
   ]
  },
  {
   "cell_type": "code",
   "execution_count": null,
   "metadata": {},
   "outputs": [],
   "source": [
    "# 用cocoval 进行验证结果\n",
    "result_list = []    #临时保存结果\n",
    "idx = 1\n",
    "for file_id in file_dic:\n",
    "    coco_img_path = os.path.join(coco_img_dir, file_dic[file_id])\n",
    "    print(\"第\"+ str(idx) +\"个图片\")\n",
    "    list = prediction(coco_img_path, file_id)\n",
    "    result_list += list\n",
    "    idx += 1"
   ]
  },
  {
   "cell_type": "code",
   "execution_count": null,
   "metadata": {},
   "outputs": [],
   "source": [
    "# 保存结果\n",
    "with open('val2017coco.json','a',encoding='utf8')as fp:\n",
    "    json.dump(result_list, fp)"
   ]
  },
  {
   "cell_type": "code",
   "execution_count": null,
   "metadata": {},
   "outputs": [],
   "source": [
    "!python mAP.py"
   ]
  }
 ],
 "metadata": {
  "interpreter": {
   "hash": "b7ecf2b0355b3f7b119064f2b32d6d7c356d8750fbbaadb70c6070c159d5f1f9"
  },
  "kernelspec": {
   "display_name": "Python 3.9.5 64-bit ('base': conda)",
   "language": "python",
   "name": "python3"
  },
  "language_info": {
   "codemirror_mode": {
    "name": "ipython",
    "version": 3
   },
   "file_extension": ".py",
   "mimetype": "text/x-python",
   "name": "python",
   "nbconvert_exporter": "python",
   "pygments_lexer": "ipython3",
   "version": "3.9.5"
  },
  "orig_nbformat": 4
 },
 "nbformat": 4,
 "nbformat_minor": 2
}
